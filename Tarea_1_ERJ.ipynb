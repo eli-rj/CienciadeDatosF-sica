{
 "cells": [
  {
   "cell_type": "code",
   "execution_count": 1,
   "id": "452d5cb3",
   "metadata": {},
   "outputs": [],
   "source": [
    "#Importamos las librerias que necesitamos \n",
    "from math import * #importamos math para poder usar sqrt \n",
    "from random import * #Para usar números aleatorios \n",
    "import matplotlib.pyplot as plt #Para graficar \n",
    "from scipy.stats import norm #Para usar distribución normal \n",
    "import numpy as np #Para usar linspace"
   ]
  },
  {
   "cell_type": "markdown",
   "id": "11c1d2da",
   "metadata": {},
   "source": [
    "<font size=4 color='violet'>\n",
    "    \n",
    "## Elizabeth Rubio Juárez"
   ]
  },
  {
   "cell_type": "markdown",
   "id": "5460c487",
   "metadata": {},
   "source": [
    "## Tarea 1: Repaso de los conceptos básicos de Python\n",
    "### Ciencia de datos para físicos: Facultad de ciencias, UNAM\n",
    "#### Profesores: Karen Rubí Jiménez-López, Pedro Arturo Flores-Silva\n",
    "\n",
    "**Instrucciones:** Este notebook contiene una serie de ejercicios que deben ser resueltos. Cada ejercicio se encuentra en una celda, ya sea de código o Markdown. Debes crear una o dos *celdas debajo de cada ejercicio* con tu(s) respectiva(s) respuestas. No modifiques las celdas originales.\n",
    "\n",
    "Recuerda que para ejecutar el código de una celda, presionar `Ctlr + Enter` o bien el boton de `play` en el editor Jupyter notebook.\n",
    "\n",
    "Cada ejercicio tendrá diferente valor, y se indicará en la celda de éste. La calificación final será la suma de los puntos obtenidos en cada ejercicio. Se calificará considerando la calidad de la respuesta, la claridad de la explicación y la correctitud del código. Por ejemplo, si el código no ejecuta la respuesta correcta pero se da una idea textual, se demuestra que hay comprensión del problema y el código hace sentido para el revisor, se otorgará una calificación parcial. Esto es, las respuestas no solo se evaluarán como bien o mal, sino que se considerará el esfuerzo.\n",
    "\n",
    "El codigo que realices debes comentarlo donde creas necesario, no vale no hacer ningún comentario. Recuerda que los comentarios son importantes para que el código sea legible y entendible, éstos se agregan con el símbolo #. Para las funciones y/o clases que crees, agrega la documentación correspondiente (docstring), éste se agrega con `\"\"\" docstring \"\"\"`."
   ]
  },
  {
   "cell_type": "markdown",
   "id": "66df713a",
   "metadata": {},
   "source": [
    "### Ejercicio 1 (1 punto):\n",
    "En una celda Markdown contesta: \n",
    "* ¿Qué es una palabra reservada en python? Enlista 5 ejemplos de nombres reservados en python y describe su función.\n",
    "* Coloca tres ejemplos de nombres de variables que no son válidos en python. Explica por qué no son válidos."
   ]
  },
  {
   "cell_type": "markdown",
   "id": "a5615df6",
   "metadata": {},
   "source": [
    "<font size=3 color='blue'>\n",
    "    \n",
    "Las palabras reservadas son palabras que el lenguaje de programación ya ha reservado para realizar ciertas tareas como:\n",
    "    \n",
    "class. Permite realizar clases, las clases son como un constructor de objetos. \n",
    "    \n",
    "False. El tipo booleano de Python tiene solo dos valores posibles (True y False). Nos dice si cierta condición no se cumple. \n",
    "  \n",
    "def. Sirve para definir funciones. \n",
    "    \n",
    "break. Permite terminar un ciclo y pasar al siguiente código después del ciclo. Es decir, se detiene hasta que una cierta condición deja de cumplirse. \n",
    "    \n",
    "if. Se utiliza para ejecutar un bloque de código si, y solo si, se cumple una determinada condición.\n",
    "    \n",
    "\n",
    "    \n",
    "<font size=3 color='orange'>\n",
    "    \n",
    "Tres ejemplos de nombres de variables que no son válidos en python son: \n",
    "    \n",
    "fecha de nacimiento = \"30 octubre 1999\" (Dado que los nombres de variables no pueden incluir espacios en blanco).\n",
    "    \n",
    "lambda = 3 (Dado que las palabras reservadas del lenguaje están prohibidas como nombres de variables).\n",
    "    \n",
    "1var = 3 (Dado que los nombres de variables no pueden empezar con un número). \n",
    "\n",
    "    \n",
    "\n"
   ]
  },
  {
   "cell_type": "markdown",
   "id": "8f4fd89b",
   "metadata": {},
   "source": [
    "### Ejercicio 2 (1 punto):\n",
    "\n",
    "En una celda de código, escribe una función que encuentre las raíces de cualquier polinomio de segundo grado (implementar la chicharronera). En una celda markdown detalla posibles casos en la cual la función podría fallar.\n",
    "Usa dicha función para encontrar las raíces del polinomio $f(x) = 10x^2 - 2x$ e imprimelas en pantalla."
   ]
  },
  {
   "cell_type": "markdown",
   "id": "1dc86a32",
   "metadata": {},
   "source": [
    "<font size=3 color='blue'>\n",
    "    \n",
    "Buscamos resolver ecuaciones de segundo grado de la forma\n",
    "\n",
    "\\begin{equation}\n",
    " ax^{2} + bx+c=0\n",
    "\\end{equation}\n",
    "    \n",
    "Los datos del problema son los coeficientes $a$, $b$ y $c$. Queremos calcular los valores de $x$ que hacen cierta la ecuación. Dichos valores son:\n",
    "\n",
    "\\begin{equation} \n",
    "x_1=\\frac{-b+\\sqrt{b^{2}-4ac}}{2a} \\qquad\n",
    "x_2=\\frac{-b-\\sqrt{b^{2}-4ac}}{2a}\n",
    "\\end{equation}\n",
    "\n",
    "Un problema es la división entre cero que tiene lugar cuando $a$ vale $0$. Cuando $a$ vale 0 la ecuación no es de segundo grado, sino de primer grado."
   ]
  },
  {
   "cell_type": "code",
   "execution_count": 2,
   "id": "a5cee4d8",
   "metadata": {},
   "outputs": [],
   "source": [
    "def Chicharronera(a, b, c): #Definimos la función teniendo en cuenta la forma de la función ax*2 + bx + x = 0 \n",
    "    \"\"\" Función que encuentra las raíces de cualquier polinomio de segundo grado \"\"\"\n",
    "#Usamos el condicional if para los diferentes casos que tenemos\n",
    "    if a == 0: #Si a = 0 entonces la función ahora es lineal \n",
    "        raise TypeError('No es una ecuación de segundo grado! Es lineal')\n",
    "    \n",
    "    d = b * b - 4 * a * c #Definimos el discriminante \n",
    "    dis = sqrt(abs(d)) #Definimos la raíz cuadrada del discriminante \n",
    " \n",
    "    if d > 0: #Esto sucede cuando el discriminante es un numero positivo\n",
    "        print('Las raices son reales y diferentes entre si')\n",
    "        print('La primera raíz es x1: ', (-b + dis)/(2 * a)) #Imprime las raices \n",
    "        print('La segunda raíz es x2: ', (-b - dis)/(2 * a))\n",
    "        \n",
    "    elif d == 0: #Esto sucede cuando el discriminante es igual a cero\n",
    "        print('Las raices son reales e iguales')\n",
    "        print('Las raices son: ', -b / (2*a)) #Imprime las raices \n",
    "        \n",
    "    else:  #Esto es para el caso en el cual d<0, es decir, tenemos raices complejas\n",
    "        print('Las raices son complejas')\n",
    "        print('La primera raíz es x1: ', - b / (2*a), \" + i\", dis / (2 * a)) #Imprime las raices \n",
    "        print('La segunda raíz es x2: ', - b / (2*a), \" - i\", dis / (2 * a)) "
   ]
  },
  {
   "cell_type": "code",
   "execution_count": 3,
   "id": "88810c6b",
   "metadata": {},
   "outputs": [
    {
     "name": "stdout",
     "output_type": "stream",
     "text": [
      "Las raices son reales y diferentes entre si\n",
      "La primera raíz es x1:  0.2\n",
      "La segunda raíz es x2:  0.0\n"
     ]
    }
   ],
   "source": [
    "Chicharronera(10, -2, 0)"
   ]
  },
  {
   "cell_type": "markdown",
   "id": "7610c62b",
   "metadata": {},
   "source": [
    "### Ejercicio 3 (1 punto):\n",
    "\n",
    "*Caida libre*: El gran Galileo Galilei subió la torre de Pisa para determinar el tiempo que tarda un objeto en caer desde una altura $H$ al suelo. Para ello, colocó un objeto de masa $m=100$ kg en la torre y lo dejó caer. El tiempo que tardó en caer fue $t=0.05616667$ minutos.\n",
    "\n",
    "Considerando que la aceleración de la gravedad es $g=9.8$ $\\frac{m}{s^2}$, escribe un programa que determine la altura de la torre de Pisa. El programa debe imprimir la altura en la pantalla.\n",
    "\n",
    "Recuerda que el movimiento de caída libre simplificado cumple la ecuación: $y(t) = H + vt - \\frac{1}{2}gt^2$."
   ]
  },
  {
   "cell_type": "markdown",
   "id": "c463dfc0",
   "metadata": {},
   "source": [
    "<font size=3 color='blue'>\n",
    "    \n",
    "Dado que se menciona que Galileo Galilei colocó el objeto y lo \"dejó caer\", entonces la velocidad inicial será siempre igual a cero (v0 = 0). Entonces, \n",
    "    \n",
    "\\begin{equation}\n",
    " y(t) = H - \\frac{1}{2}gt^2\n",
    "\\end{equation}"
   ]
  },
  {
   "cell_type": "code",
   "execution_count": 4,
   "id": "af0f8449",
   "metadata": {},
   "outputs": [
    {
     "name": "stdout",
     "output_type": "stream",
     "text": [
      "La altura de la torre de Pisa es de: 55.648816605200196 m\n"
     ]
    }
   ],
   "source": [
    "m = 100 #kg, no es necesario dado que no depende de la masa del objeto \n",
    "g = 9.8 #m/s^2\n",
    "t = 3.3700002 #s\n",
    "\n",
    "H = 0.5 * g * t * t #Definimos el valor de la altura\n",
    "print('La altura de la torre de Pisa es de:', H, 'm')"
   ]
  },
  {
   "cell_type": "markdown",
   "id": "bf2d28e7",
   "metadata": {},
   "source": [
    "### Ejercicio 4 (1 punto):\n",
    "Crea una lista de números enteros del 0 al 99 : `lista = [0,1, 2, 3, 4, ... , 95, 96, 97, 98, 99]` (6 puntos menos si creas la lista manualmente).\n",
    " \n",
    "Escribe un programa que imprima en la pantalla una la lista que cumpla con las siguientes condiciones:\n",
    "* Los ultimos 10 elementos: debe imprimir lo siguiente `[90, 91, 92, 93, 94, 95, 96, 97, 98, 99]`.\n",
    "* Los primeros 11 elementos: debe imprimir lo siguiente `[0, 1, 2, 3, 4, 5, 6, 7, 8, 9, 10]`.\n",
    "* La serie de elementos de la lista que están entre 60 y 75: debe imprimir lo siguiente `[60, 61, 62, 63, 64, 65, 66, 67, 68, 69, 70, 71, 72, 73, 74, 75]`.\n",
    "* El número 50: debe imprimir lo siguiente `50`.\n",
    "\n",
    "Debes aplicar el concepto de *slicing* para resolver este ejercicio (notación de puntos `[:]`).\n",
    "\n",
    "Puntos menos si se crean listas nuevas para cada caso y/o se seleccionan manualmente los valores."
   ]
  },
  {
   "cell_type": "code",
   "execution_count": 5,
   "id": "91c15014",
   "metadata": {},
   "outputs": [
    {
     "name": "stdout",
     "output_type": "stream",
     "text": [
      "[0, 1, 2, 3, 4, 5, 6, 7, 8, 9, 10, 11, 12, 13, 14, 15, 16, 17, 18, 19, 20, 21, 22, 23, 24, 25, 26, 27, 28, 29, 30, 31, 32, 33, 34, 35, 36, 37, 38, 39, 40, 41, 42, 43, 44, 45, 46, 47, 48, 49, 50, 51, 52, 53, 54, 55, 56, 57, 58, 59, 60, 61, 62, 63, 64, 65, 66, 67, 68, 69, 70, 71, 72, 73, 74, 75, 76, 77, 78, 79, 80, 81, 82, 83, 84, 85, 86, 87, 88, 89, 90, 91, 92, 93, 94, 95, 96, 97, 98, 99]\n"
     ]
    }
   ],
   "source": [
    "lista = [*range(0, 100, 1)] # * sirve para que aparezcan los numeros \n",
    "print(lista)"
   ]
  },
  {
   "cell_type": "code",
   "execution_count": 6,
   "id": "302c3946",
   "metadata": {},
   "outputs": [
    {
     "name": "stdout",
     "output_type": "stream",
     "text": [
      "[90, 91, 92, 93, 94, 95, 96, 97, 98, 99] [0, 1, 2, 3, 4, 5, 6, 7, 8, 9, 10] [60, 61, 62, 63, 64, 65, 66, 67, 68, 69, 70, 71, 72, 73, 74, 75] 50\n"
     ]
    }
   ],
   "source": [
    "print(lista[-10:], lista[:11], lista[60:76], lista[50])"
   ]
  },
  {
   "cell_type": "markdown",
   "id": "ac5b94d8",
   "metadata": {},
   "source": [
    "### Ejercicio 5 (1 punto):\n",
    "Crea una lista de números enteros del 0 al 1000. A partir de dicha lista:\n",
    "* Guarda en una variable una lista con los números pares usando ciclos y condicionales. Imprime los últimos 10 elementos de la lista final.\n",
    "* Guarda en una variable una lista con los números impares usando listas comprensivas (comprehension list). Imprime los primeros 10 elementos de la lista final."
   ]
  },
  {
   "cell_type": "code",
   "execution_count": 7,
   "id": "4caa370e",
   "metadata": {},
   "outputs": [
    {
     "name": "stdout",
     "output_type": "stream",
     "text": [
      "[982, 984, 986, 988, 990, 992, 994, 996, 998, 1000]\n"
     ]
    }
   ],
   "source": [
    "l2 = [*range(0, 1001, 1)] #* sirve para que aparezcan los numeros\n",
    "par = [i for i in l2 if i%2==0] #Para que sea un número par \n",
    "print(par[-10:])"
   ]
  },
  {
   "cell_type": "code",
   "execution_count": 8,
   "id": "08743f8d",
   "metadata": {},
   "outputs": [
    {
     "name": "stdout",
     "output_type": "stream",
     "text": [
      "[1, 3, 5, 7, 9, 11, 13, 15, 17, 19]\n"
     ]
    }
   ],
   "source": [
    "impar = [i for i in l2 if i%2!=0] #Para que sea un número impar\n",
    "print(impar[:10])"
   ]
  },
  {
   "cell_type": "markdown",
   "id": "00462693",
   "metadata": {},
   "source": [
    "### Ejercicio 6 (2 puntos): Aproximación de $\\pi$\n",
    "Una de las formas más sencillas de aproximar $\\pi$ es mediante la siguiente serie infinita de Leibniz:\n",
    "$$\\frac{\\pi}{4} = \\sum_{n=0}^{\\infty}\\frac{(-1)^{n}}{(2n+1)} = \\frac{1}{1} - \\frac{1}{3} + \\frac{1}{5}-\\frac{1}{7}+\\frac{1}{9}-...$$\n",
    "\n",
    "crea una función para aproximar $\\pi$ utilizando la serie de Leibniz. Usa n = 100000 e imprime el valor de tu aproximación tanto el valor de $\\frac{\\pi}{4}$ como $\\pi$.\n",
    "\n",
    "El valor de $\\pi$ se obtiene al despejar:\n",
    "$$\\pi = 4 * \\left(\\sum_{n=0}^{\\infty}\\frac{(-1)^{n}}{(2n+1)} \\right)$$\n",
    "\n",
    "La siguiente celda de codigo ofrece el valor de $\\frac{\\pi}{4}$"
   ]
  },
  {
   "cell_type": "code",
   "execution_count": 9,
   "id": "a4a31d07",
   "metadata": {},
   "outputs": [
    {
     "name": "stdout",
     "output_type": "stream",
     "text": [
      "El valor de pi/4 es aproximadamente 0.7853981633974483\n"
     ]
    }
   ],
   "source": [
    "#El valor de pi/4\n",
    "print(\"El valor de pi/4 es aproximadamente {}\".format(pi/4))"
   ]
  },
  {
   "cell_type": "code",
   "execution_count": 10,
   "id": "1c33035d",
   "metadata": {},
   "outputs": [],
   "source": [
    "def picuartos(): \n",
    "    \"\"\"Funcion creada para obtener el valor de pi y pi/4 mediante la serie infinita de Leibniz\"\"\"\n",
    "    n = 100000 #Definimos el valor de n \n",
    "    sum = 0.0 #Iniciamos la suma \n",
    "    for i in range(n+1): #Dejamos correr el indice hasta n+1 para que cuente a n \n",
    "        sum += ((-1.0)**i)/((2.0*i)+1.0) #Definimos la serie infinita de Leibniz \n",
    "    return sum"
   ]
  },
  {
   "cell_type": "code",
   "execution_count": 11,
   "id": "3d7d7ee9",
   "metadata": {},
   "outputs": [
    {
     "name": "stdout",
     "output_type": "stream",
     "text": [
      "Usando la serie infinita de Leibniz, el valor de pi/4 es: 0.7854006633724301\n",
      "Usando la serie infinita de Leibniz, el valor de pi es: 3.1416026534897203\n"
     ]
    }
   ],
   "source": [
    "print('Usando la serie infinita de Leibniz, el valor de pi/4 es:',picuartos())\n",
    "print('Usando la serie infinita de Leibniz, el valor de pi es:',4*picuartos())"
   ]
  },
  {
   "cell_type": "markdown",
   "id": "d0c28e6e",
   "metadata": {},
   "source": [
    "### Ejercicio 7 (1 puntos): Identificador de vocales\n",
    "\n",
    "Escribe una función que reciba una cadena, por ejemplo 'el pErro de la tiA chOnita' y regrese la cantidad de vocales que contiene. La función debe contener varios casos de prueba, if, elif y else. Con la cadena de ejemplo, imprime en pantalla el resultado de la función (10).\n",
    "\n",
    "Para conocer si un caracter es una vocal, primero debes descomponer la cadena en caracteres individuales. Para ello observa el siguiente código:"
   ]
  },
  {
   "cell_type": "code",
   "execution_count": 12,
   "id": "55a65e0f",
   "metadata": {},
   "outputs": [
    {
     "name": "stdout",
     "output_type": "stream",
     "text": [
      "['e', 'l', ' ', 'p', 'E', 'r', 'r', 'o', ' ', 'd', 'e', ' ', 'l', 'a', ' ', 't', 'i', 'A', ' ', 'c', 'h', 'O', 'n', 'i', 't', 'a']\n"
     ]
    }
   ],
   "source": [
    "# Divide una cadena en caracteres individuales\n",
    "cadena_prueba = 'el pErro de la tiA chOnita'\n",
    "caracteres_individuales = list(cadena_prueba)\n",
    "print(caracteres_individuales)"
   ]
  },
  {
   "cell_type": "code",
   "execution_count": 13,
   "id": "c5f15e7c",
   "metadata": {},
   "outputs": [],
   "source": [
    "def Vocales(cadena): #Definimos la función para encontrar las vocales, toma como argumento la cadena \n",
    "    \"\"\"Función que cuenta vocales siempre y cuando no tenga acentos.\"\"\"\n",
    "    if type(cadena)!=str: #Con este condicional if se pide que sea una cadena de caracteres \n",
    "        raise TypeError('No es una cadena de caracteres!')\n",
    "    else: #Ya se sabe que es una cadena\n",
    "        v=['A','E','I','O','U','a','e','i','o','u'] #definimos las vocales en mayusculas y minusculas  \n",
    "        l=list(cadena) #Hacemos lista la cadena de caracteres \n",
    "        s=0 #Definimos un contador de vocales y lo iniciamos en cero \n",
    "        for i in l: #Iteramos sobre cada elemento en la lista \n",
    "            for j in v: #Iteramos sobre las vocales \n",
    "                if j==i: #Si el elemento i de la lista coincide con el elemento j de las vocales entonces lo sumamos \n",
    "                    s+=1\n",
    "        print('La cadena de caracteres tiene', s, 'vocales')    "
   ]
  },
  {
   "cell_type": "code",
   "execution_count": 14,
   "id": "9f01e700",
   "metadata": {},
   "outputs": [
    {
     "name": "stdout",
     "output_type": "stream",
     "text": [
      "La cadena de caracteres tiene 10 vocales\n"
     ]
    }
   ],
   "source": [
    "Vocales('el pErro de la tiA chOnita')"
   ]
  },
  {
   "cell_type": "markdown",
   "id": "bcbfb4fb",
   "metadata": {},
   "source": [
    "### Ejercicio 8 (2 puntos):\n",
    "\n",
    "Escribe una clase \"calculadora\" que regrese el resultado de las operaciones de suma, resta, multiplicacion, division, modulo y potencia. La clase debe contener un método para cada operación.\n",
    "\n",
    "Los métodos que pudiesen presentar errores como division entre cero, deben ser manejados de tal manera que el programa no imprima ningun error (vimos una clausula para hacer esto).\n",
    "\n",
    "Adicional a esto, los métodos modulo y potencia deben ser generales, es decir, deben funcionar para cualquier número entero positivo (es un parámetro extra del método). Por ejemplo, la potencia de 2 elevado a 3 es 8, la potencia de 5 elevado a 3 es 125, etc.\n",
    "\n",
    "Crea una instancia de la clase calculadora y prueba cada uno de los métodos, con valores de tu elección. Para los métodos que pudiesen presentar errores da dos ejemplos, uno totalmente funcional (3/5 por ejemplo) y otro que sea conflictivo pero que no regresa ningún error (4/0 por ejemplo)."
   ]
  },
  {
   "cell_type": "code",
   "execution_count": 15,
   "id": "9e2b7ebd",
   "metadata": {},
   "outputs": [],
   "source": [
    "\"\"\"Clase que funciona como una calculadora. \n",
    "Calcula las siguientes operaciones: suma, resta, multiplicación, división, modulo, potencia y raíz cuadrada.\"\"\"\n",
    "class calculadora(): #Definimos la clase \"calculadora\"\n",
    "\n",
    "    def __init__(self, marca): #Sirve para iniciar los atributos del objeto (calculadora)\n",
    "\n",
    "        self.marca = marca #Definimos la marca de la calculadora \n",
    "\n",
    "    def suma(self, a, b): #Definimos la suma de dos numeros a y b \n",
    "\n",
    "        return a + b #Regresa la suma de los numeros \n",
    "    \n",
    "    def resta(self, a, b): #Definimos la resta de dos numeros a y b\n",
    "\n",
    "        return a - b #Regresa la resta de los numeros \n",
    "\n",
    "    def multiplicacion(self, a, b): #Definimos la multiplicacion de dos numeros a y b\n",
    "\n",
    "        return a*b #Regresa la multiplicación entre los numeros \n",
    "    \n",
    "    def division(self, a, b): #Definimos la división de dos numeros a y b\n",
    "    #Se tienen problema en la división por cero\n",
    "        try:\n",
    "            return a/b #Regresa la división y cuando se divide entre cero imprime la leyenda y regresa None\n",
    "        except:\n",
    "            print('ERROR! DIVISION ENTRE CERO')\n",
    "            return None\n",
    "        \n",
    "    def modulo(self, a, b): #Definimos el modulo de dos numeros a y b\n",
    "    #Se tiene problema en la división por cero\n",
    "        try:\n",
    "            return a%b #Regresa el residuo y cuando se divide entre cero imprime la leyenda y regresa None\n",
    "        except:\n",
    "            print('ERROR! DIVISION ENTRE CERO')\n",
    "            return None\n",
    "    \n",
    "    def potencia(self, a, b): #Definimos la potencia del numero \"a\" a la potencia \"b\"\n",
    "    #Se tiene problemas en potencias de la forma 0^(-n)\n",
    "    #Funciona para decimales y se especifico error en 0^0\n",
    "    #Se tiene problema al elevar numeros a raices pares\n",
    "        \n",
    "        if a==0 and b<0: #Imprime la leyenda de error cuando se eleva a una potencia negativa el 0 \n",
    "            print('ERROR! HAY UNA INDETERMINACION')\n",
    "        elif a==b==0: #Imprime la leyenda de error cuando se eleva 0 a la 0 \n",
    "            print('ERROR! HAY UNA INDETERMINACION')\n",
    "        else:\n",
    "            return a**b #En otro caso, nos regresa el valor \n",
    "    \n",
    "    def raizcuadrada(self, a): #Definimos la raíz cuadrada del numero a\n",
    "        if a>=0: #Si el numero es mayor o igual que 0, regresa el valor real \n",
    "            return sqrt(a)\n",
    "        else: #En el caso de ser menor que 0, regresa el valor complejo \n",
    "            return complex(0, sqrt(-a)) "
   ]
  },
  {
   "cell_type": "code",
   "execution_count": 16,
   "id": "df40e98f",
   "metadata": {},
   "outputs": [
    {
     "name": "stdout",
     "output_type": "stream",
     "text": [
      "\n",
      " Marca\n",
      "CASIO\n",
      "\n",
      " Suma\n",
      "500\n",
      "\n",
      " Resta\n",
      "3\n",
      "\n",
      " Multiplicación\n",
      "2\n",
      "\n",
      " División\n",
      "25.0\n",
      "ERROR! DIVISION ENTRE CERO\n",
      "None\n",
      "\n",
      " Modulo\n",
      "1\n",
      "ERROR! DIVISION ENTRE CERO\n",
      "None\n",
      "\n",
      " Potencia\n",
      "0\n",
      "0.1111111111111111\n",
      "-3125\n",
      "1.4142135623730951\n",
      "25\n",
      "ERROR! HAY UNA INDETERMINACION\n",
      "None\n",
      "ERROR! HAY UNA INDETERMINACION\n",
      "None\n",
      "\n",
      " Raíz Cuadrada\n",
      "3.0\n",
      "3j\n"
     ]
    }
   ],
   "source": [
    "CASIO=calculadora('CASIO')\n",
    "print('\\n Marca')\n",
    "print(CASIO.marca)\n",
    "\n",
    "print('\\n Suma')\n",
    "print(CASIO.suma(100,400)) \n",
    "\n",
    "print('\\n Resta')\n",
    "print(CASIO.resta(5,2))\n",
    "\n",
    "print('\\n Multiplicación')\n",
    "print(CASIO.multiplicacion(1,2))\n",
    "\n",
    "print('\\n División')\n",
    "print(CASIO.division(50,2))\n",
    "print(CASIO.division(100,0))\n",
    "\n",
    "print('\\n Modulo')\n",
    "print(CASIO.modulo(1,2))\n",
    "print(CASIO.modulo(200,0))\n",
    "\n",
    "print('\\n Potencia')\n",
    "print(CASIO.potencia(0,2))\n",
    "print(CASIO.potencia(3,-2))\n",
    "print(CASIO.potencia(-5,5))\n",
    "print(CASIO.potencia(2,0.5))\n",
    "print(CASIO.potencia(-5,2))\n",
    "print(CASIO.potencia(0,-3))\n",
    "print(CASIO.potencia(0,0))\n",
    "\n",
    "print('\\n Raíz Cuadrada')\n",
    "print(CASIO.raizcuadrada(9))\n",
    "print(CASIO.raizcuadrada(-9))"
   ]
  },
  {
   "cell_type": "markdown",
   "id": "c6e4da53",
   "metadata": {},
   "source": [
    "### Ejercicio de puntos extras opcional (1 punto):\n",
    "\n",
    "Supóngamos que tenemos una lista de números enteros y queremos encontrar el número más grande. Por ejemplo, si la lista es `[1, 2, 3, 4, 5]` el número más grande es 5. Crea una función que encuentre el número más grande en una lista de números. La función debe regresar el número más grande y el índice en el que se encuentra. Prueba la función con una lista de números de tu elección."
   ]
  },
  {
   "cell_type": "code",
   "execution_count": 17,
   "id": "b5259f54",
   "metadata": {},
   "outputs": [],
   "source": [
    "def maximum(l4): \n",
    "    \"\"\"Función que da el número más grande de una lista. \n",
    "    Es importante mencionar que si en la lista hay dos numeros iguales, \n",
    "    dará la posición del segundo elemento.\"\"\"\n",
    "    m = l4[0] #Primer valor de la lista\n",
    "    c = 0 #Definimos un contador \n",
    "    for i in range(len(l4)): #Iteramos sobre los elementos de la lista \n",
    "        if l4[i] >= m: #Debe cumplirse la condición de que sea mayor o igual que el primer elemento de la lista\n",
    "            #Cuando el numero sea igual que el primer elemento de la lista, imprimira la posición del numero\n",
    "            c = i #Regresa la posición del elemento \n",
    "            m = l4[i] #Regresa el valor del elemento en esa posición \n",
    "    print('El número más grande de la lista es', m, 'y esta en la posición', c)"
   ]
  },
  {
   "cell_type": "code",
   "execution_count": 18,
   "id": "e41592bb",
   "metadata": {},
   "outputs": [
    {
     "name": "stdout",
     "output_type": "stream",
     "text": [
      "El número más grande de la lista es 15 y esta en la posición 3\n"
     ]
    }
   ],
   "source": [
    "maximum([15,1,10, 15])"
   ]
  },
  {
   "cell_type": "markdown",
   "id": "525883b3",
   "metadata": {},
   "source": [
    "### Ejercicio de puntos extras opcional (3 puntos):\n",
    "\n",
    "Supóngamos que tenemos un dado convencional de 6 caras. Crea una función que simule el lanzamiento de un dado. La función debe regresar un número aleatorio entre 1 y 6.\n",
    "\n",
    "Sabemos que la probabilidad de que salga un número es de $\\frac{1}{6}$, es decir, la probabilidad de que salga un 1 es de $\\frac{1}{6}$, la probabilidad de que salga un 2 es de $\\frac{1}{6}$, etc.\n",
    "\n",
    "* Prueba la función con 6 lanzamientos, en una celda markdown explica porqué el resultado es dificilmente [1, 2, 3, 4, 5, 6].\n",
    "\n",
    "* Prueba la función con 1000 lanzamientos, crea una grafica de barras de los resultados (investiga como puedes graficar los resultados en una grafica de barras) y explica a que distribucion se parece y porqué es así.\n",
    "\n",
    "Hint: Para crear los números aleatorios, puedes usar la función `random.randint()`. O bien, usar el modulo numpy para crearlos. Para graficar los resultados, puedes usar la libreria matplotlib, seaborn, plotly o cualquiera que se te haga más fácil."
   ]
  },
  {
   "cell_type": "code",
   "execution_count": 19,
   "id": "54e8ad0a",
   "metadata": {},
   "outputs": [],
   "source": [
    "def Dado(): \n",
    "    \"\"\"Función que simula un dado, por lo que regresa un número aleatorio entre 1 y 6. \"\"\"\n",
    "    ca = randint(1,6) #Creamos los números aleatorios\n",
    "    return ca #Regresamos el número aleatorio "
   ]
  },
  {
   "cell_type": "code",
   "execution_count": 20,
   "id": "b242879b",
   "metadata": {},
   "outputs": [
    {
     "name": "stdout",
     "output_type": "stream",
     "text": [
      "Al lanzar el dado 6 veces, se obtuvo lo siguiente en cada caso: [6, 5, 1, 5, 3, 5]\n"
     ]
    }
   ],
   "source": [
    "ll = [] #Creamos una lista vacia\n",
    "f = 6\n",
    "for i in range(f): #Generamos los 6 números aleatorios  \n",
    "    n = Dado() #Usamos la función antes definida\n",
    "    ll.append(n) #Llenamos la lista con los números aleatorios\n",
    "print('Al lanzar el dado 6 veces, se obtuvo lo siguiente en cada caso:', ll)"
   ]
  },
  {
   "cell_type": "markdown",
   "id": "192db0de",
   "metadata": {},
   "source": [
    "<font size=3 color='blue'>\n",
    "\n",
    "El resultado dificilmente será [1,2,3,4,5,6] pues los números aleatorios no se pueden reproducir en la computadora. Más bien, son números pseudo-aleatorios. \n",
    "    \n",
    "Un número pseudo-aleatorio es un número generado en un proceso que parece producir números al azar, pero no lo hace realmente. Las secuencias de números pseudo-aleatorios no muestran ningún patrón o regularidad aparente desde un punto de vista estadístico, a pesar de haber sido generadas por un algoritmo completamente determinista, en el que las mismas condiciones iniciales producen siempre el mismo resultado. La condición inicial se llama semilla (seed).\n",
    "    \n",
    "    \n",
    "Es importante mencionar que cada tirada es una variable independiente de las anteriores o posteriores, por lo que pueden obtenerse el mismo valor n veces. "
   ]
  },
  {
   "cell_type": "code",
   "execution_count": 21,
   "id": "221921c4",
   "metadata": {},
   "outputs": [],
   "source": [
    "#Para los 1000 lanzamientos, repetimos el procedimiento anterior \n",
    "ll1 = [] #Creamos una lista vacia\n",
    "g = 1000\n",
    "for i in range(g): #Generamos los 1000 números aleatorios  \n",
    "    nn = Dado() #Usamos la función antes definida\n",
    "    ll1.append(nn) #Llenamos la lista con los números aleatorios"
   ]
  },
  {
   "cell_type": "code",
   "execution_count": 22,
   "id": "36676911",
   "metadata": {},
   "outputs": [
    {
     "data": {
      "image/png": "[encoded data removed]",
      "text/plain": [
       "<Figure size 720x432 with 1 Axes>"
      ]
     },
     "metadata": {
      "needs_background": "light"
     },
     "output_type": "display_data"
    }
   ],
   "source": [
    "#Vamos a graficar\n",
    "plt.figure(figsize=(10,6)) #Definimos el tamaño de la gráfica \n",
    "plt.hist(ll1, bins=6, color='darkmagenta', edgecolor='black') #Definimos las barras que queremos\n",
    "plt.xlabel(\"Cara del dado\", size = 16, color='peru') #Nombrasmos el eje x\n",
    "plt.ylabel(\"Frecuencia relativa\", size = 16, color='peru') #Nombramos el eje y\n",
    "plt.show() #Enseña el histograma "
   ]
  },
  {
   "cell_type": "markdown",
   "id": "cf07d4b1",
   "metadata": {},
   "source": [
    "<font size=3 color='blue'>\n",
    "    \n",
    "Al tener un dado de 6 caras, entonces la probabilidad de sacar cualquiera de los números es 1/6 (se tiene la misma probabilidad de sacar cualquier número que de sacar los otros cinco). "
   ]
  },
  {
   "cell_type": "code",
   "execution_count": 23,
   "id": "eec8119f",
   "metadata": {},
   "outputs": [
    {
     "data": {
      "image/png": "[encoded data removed]",
      "text/plain": [
       "<Figure size 432x288 with 1 Axes>"
      ]
     },
     "metadata": {
      "needs_background": "light"
     },
     "output_type": "display_data"
    }
   ],
   "source": [
    "mu, std = norm.fit(ll1) #Ajustamos una distribución normal a los datos\n",
    "plt.hist(ll1, bins=6, density=True, color='g') #Histograma\n",
    "\n",
    "xmin, xmax = plt.xlim() #Limites del eje x \n",
    "x = np.linspace(xmin, xmax, 100)\n",
    "p = norm.pdf(x, mu, std)\n",
    "plt.plot(x, p, 'k', linewidth=2) #Ajuste\n",
    "title = \"$\\mu_0$ = %.2f,  $\\sigma_0$ = %.2f\" % (mu, std)\n",
    "plt.xlabel(\"Cara del dado\", size = 16, color='peru') #Nombrasmos el eje x\n",
    "plt.ylabel(\"Frecuencia\", size = 16, color='peru') #Nombramos el eje y\n",
    "\n",
    "plt.title(title) #Titulo de la gráfica \n",
    "\n",
    "plt.show() #Muestra la gráfica"
   ]
  },
  {
   "cell_type": "markdown",
   "id": "2b983fea",
   "metadata": {},
   "source": [
    "<font size=3 color='blue'>\n",
    "    \n",
    "No es notorio que sigue una distribución normal, sin embargo, a medida que aumenta el tamaño de la muestra, la distribución de las medias muestrales se acerca a una normal."
   ]
  }
 ],
 "metadata": {
  "kernelspec": {
   "display_name": "Python 3 (ipykernel)",
   "language": "python",
   "name": "python3"
  },
  "language_info": {
   "codemirror_mode": {
    "name": "ipython",
    "version": 3
   },
   "file_extension": ".py",
   "mimetype": "text/x-python",
   "name": "python",
   "nbconvert_exporter": "python",
   "pygments_lexer": "ipython3",
   "version": "3.9.12"
  },
  "vscode": {
   "interpreter": {
    "hash": "ad2bdc8ecc057115af97d19610ffacc2b4e99fae6737bb82f5d7fb13d2f2c186"
   }
  }
 },
 "nbformat": 4,
 "nbformat_minor": 5
}
